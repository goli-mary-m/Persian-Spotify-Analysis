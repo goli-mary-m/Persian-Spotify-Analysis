{
 "cells": [
  {
   "cell_type": "markdown",
   "id": "wY61IMUZyul8",
   "metadata": {
    "id": "wY61IMUZyul8"
   },
   "source": [
    "# Persian Spotify Analysis\n",
    "Alright, listen up folks! We're about to dive into some serious data analysis and machine learning. We'll start with some EDA to get to know the data, and then we'll use machine learning to extract some juicy insights. So, let's not waste any time and get this journey started!"
   ]
  },
  {
   "cell_type": "markdown",
   "id": "7cb1189c",
   "metadata": {
    "id": "7cb1189c",
    "papermill": {
     "duration": 0.020001,
     "end_time": "2023-06-04T00:21:28.073026",
     "exception": false,
     "start_time": "2023-06-04T00:21:28.053025",
     "status": "completed"
    },
    "tags": []
   },
   "source": [
    "# Import Libraries"
   ]
  },
  {
   "cell_type": "code",
   "execution_count": null,
   "id": "a9fd90b3",
   "metadata": {
    "_cell_guid": "b1076dfc-b9ad-4769-8c92-a6c4dae69d19",
    "_uuid": "8f2839f25d086af736a60e9eeb907d3b93b6e0e5",
    "execution": {
     "iopub.execute_input": "2023-06-04T00:21:28.112398Z",
     "iopub.status.busy": "2023-06-04T00:21:28.111809Z",
     "iopub.status.idle": "2023-06-04T00:21:30.880063Z",
     "shell.execute_reply": "2023-06-04T00:21:30.878884Z"
    },
    "id": "a9fd90b3",
    "papermill": {
     "duration": 2.791996,
     "end_time": "2023-06-04T00:21:30.882674",
     "exception": false,
     "start_time": "2023-06-04T00:21:28.090678",
     "status": "completed"
    },
    "tags": []
   },
   "outputs": [],
   "source": [
    "import numpy as np\n",
    "import pandas as pd \n",
    "import matplotlib.pyplot as plt\n",
    "import seaborn as sns\n",
    "from xgboost import XGBClassifier\n",
    "from sklearn.linear_model import LinearRegression\n",
    "from sklearn.preprocessing import StandardScaler\n",
    "from sklearn import metrics\n",
    "from sklearn.decomposition import PCA\n",
    "from sklearn.pipeline import make_pipeline\n",
    "from sklearn.preprocessing import StandardScaler\n",
    "from sklearn.neighbors import KNeighborsClassifier\n",
    "from sklearn.tree import DecisionTreeClassifier\n",
    "from sklearn.ensemble import RandomForestClassifier, AdaBoostClassifier\n",
    "from sklearn.neural_network import MLPClassifier\n",
    "from sklearn.svm import SVC\n",
    "from sklearn.model_selection import train_test_split, cross_val_score\n",
    "from sklearn.metrics import (\n",
    "    accuracy_score, \n",
    "    precision_score, \n",
    "    recall_score, \n",
    "    f1_score, \n",
    "    confusion_matrix\n",
    ")\n",
    "from pprint import pprint "
   ]
  },
  {
   "cell_type": "code",
   "execution_count": null,
   "id": "424eb880",
   "metadata": {
    "execution": {
     "iopub.execute_input": "2023-06-04T00:21:30.920362Z",
     "iopub.status.busy": "2023-06-04T00:21:30.919527Z",
     "iopub.status.idle": "2023-06-04T00:21:30.928096Z",
     "shell.execute_reply": "2023-06-04T00:21:30.926654Z"
    },
    "id": "424eb880",
    "papermill": {
     "duration": 0.030157,
     "end_time": "2023-06-04T00:21:30.930671",
     "exception": false,
     "start_time": "2023-06-04T00:21:30.900514",
     "status": "completed"
    },
    "tags": []
   },
   "outputs": [],
   "source": [
    "%pwd"
   ]
  },
  {
   "cell_type": "markdown",
   "id": "140448a8",
   "metadata": {
    "id": "140448a8",
    "papermill": {
     "duration": 0.016829,
     "end_time": "2023-06-04T00:21:30.964335",
     "exception": false,
     "start_time": "2023-06-04T00:21:30.947506",
     "status": "completed"
    },
    "tags": []
   },
   "source": [
    "# Load Spotify Dataset (CSV file)"
   ]
  },
  {
   "cell_type": "code",
   "execution_count": null,
   "id": "de353d7f",
   "metadata": {
    "execution": {
     "iopub.execute_input": "2023-06-04T00:21:31.001279Z",
     "iopub.status.busy": "2023-06-04T00:21:31.000445Z",
     "iopub.status.idle": "2023-06-04T00:21:31.294328Z",
     "shell.execute_reply": "2023-06-04T00:21:31.292925Z"
    },
    "id": "de353d7f",
    "papermill": {
     "duration": 0.31655,
     "end_time": "2023-06-04T00:21:31.297905",
     "exception": false,
     "start_time": "2023-06-04T00:21:30.981355",
     "status": "completed"
    },
    "tags": []
   },
   "outputs": [],
   "source": [
    "spotify_df = pd.read_csv(\"Path to the dataset\")\n",
    "spotify_df.describe()"
   ]
  },
  {
   "cell_type": "markdown",
   "id": "0974e041",
   "metadata": {
    "id": "0974e041",
    "papermill": {
     "duration": 0.019493,
     "end_time": "2023-06-04T00:21:31.338946",
     "exception": false,
     "start_time": "2023-06-04T00:21:31.319453",
     "status": "completed"
    },
    "tags": []
   },
   "source": [
    "# EDA"
   ]
  },
  {
   "cell_type": "markdown",
   "id": "8834d8c9",
   "metadata": {
    "id": "8834d8c9",
    "papermill": {
     "duration": 0.022943,
     "end_time": "2023-06-04T00:21:31.383259",
     "exception": false,
     "start_time": "2023-06-04T00:21:31.360316",
     "status": "completed"
    },
    "tags": []
   },
   "source": [
    "Exploratory Data Analysis (EDA) is a crucial step in the data analysis process. It helps us to better understand the given data, so that we can make sense out of it. If EDA is not done properly, it can hamper the further steps in the machine learning model building process. On the other hand, if done well, it may improve the efficacy of everything we do next. In order to perform EDA, we need to follow a systematic approach that involves several techniques. The following are some of the key steps involved in EDA:\n",
    "\n",
    "1. Data Sourcing: This is the very first step of EDA, where we access data and load it into our system.\n",
    "\n",
    "2. Data Cleaning: Once we have the data, we need to clean it by removing any inconsistencies, missing values, or outliers.\n",
    "\n",
    "3. Univariate Analysis: In this step, we analyze each variable in isolation to understand its distribution, central tendency, and spread.\n",
    "\n",
    "4. Bivariate Analysis: Here, we analyze the relationship between two variables to understand how they are related to each other.\n",
    "\n",
    "5. Multivariate Analysis: This step involves analyzing the relationship between multiple variables to understand how they are related to each other.\n",
    "\n",
    "By conducting EDA, we can turn an almost unusable dataset into a completely usable one. EDA helps to clean up a dataset and gives us a better understanding of the variables and the relationships between them. It is a creative process that involves generating questions about the data, searching for answers by visualizing, transforming, and modeling the data, and using what we learn to refine our questions and/or generate new ones.\n",
    "\n",
    "\n",
    "In this section, we want to explore a bit dataset characteristics. To do so, you will answer specified questions below."
   ]
  },
  {
   "cell_type": "code",
   "execution_count": null,
   "id": "e3f4eda6",
   "metadata": {
    "execution": {
     "iopub.execute_input": "2023-06-04T00:21:31.426890Z",
     "iopub.status.busy": "2023-06-04T00:21:31.426432Z",
     "iopub.status.idle": "2023-06-04T00:21:31.461158Z",
     "shell.execute_reply": "2023-06-04T00:21:31.459981Z"
    },
    "id": "e3f4eda6",
    "papermill": {
     "duration": 0.058446,
     "end_time": "2023-06-04T00:21:31.463749",
     "exception": false,
     "start_time": "2023-06-04T00:21:31.405303",
     "status": "completed"
    },
    "tags": []
   },
   "outputs": [],
   "source": [
    "spotify_df.head()"
   ]
  },
  {
   "cell_type": "code",
   "execution_count": null,
   "id": "9b9e916a",
   "metadata": {
    "execution": {
     "iopub.execute_input": "2023-06-04T00:21:31.503428Z",
     "iopub.status.busy": "2023-06-04T00:21:31.502520Z",
     "iopub.status.idle": "2023-06-04T00:21:31.510935Z",
     "shell.execute_reply": "2023-06-04T00:21:31.509696Z"
    },
    "id": "9b9e916a",
    "papermill": {
     "duration": 0.031256,
     "end_time": "2023-06-04T00:21:31.513564",
     "exception": false,
     "start_time": "2023-06-04T00:21:31.482308",
     "status": "completed"
    },
    "tags": []
   },
   "outputs": [],
   "source": [
    "spotify_df.columns"
   ]
  },
  {
   "cell_type": "markdown",
   "id": "0af15727",
   "metadata": {
    "id": "0af15727",
    "papermill": {
     "duration": 0.018905,
     "end_time": "2023-06-04T00:21:31.551354",
     "exception": false,
     "start_time": "2023-06-04T00:21:31.532449",
     "status": "completed"
    },
    "tags": []
   },
   "source": [
    "## Q: Get number of songs by each of the artists in descending order"
   ]
  },
  {
   "cell_type": "code",
   "execution_count": null,
   "id": "ab2588c5",
   "metadata": {
    "execution": {
     "iopub.execute_input": "2023-06-04T00:21:31.591576Z",
     "iopub.status.busy": "2023-06-04T00:21:31.590788Z",
     "iopub.status.idle": "2023-06-04T00:21:31.595796Z",
     "shell.execute_reply": "2023-06-04T00:21:31.594710Z"
    },
    "id": "ab2588c5",
    "papermill": {
     "duration": 0.027674,
     "end_time": "2023-06-04T00:21:31.598344",
     "exception": false,
     "start_time": "2023-06-04T00:21:31.570670",
     "status": "completed"
    },
    "tags": []
   },
   "outputs": [],
   "source": [
    "# To be completed"
   ]
  },
  {
   "cell_type": "markdown",
   "id": "2a3e365a",
   "metadata": {
    "id": "2a3e365a",
    "papermill": {
     "duration": 0.018315,
     "end_time": "2023-06-04T00:21:31.635290",
     "exception": false,
     "start_time": "2023-06-04T00:21:31.616975",
     "status": "completed"
    },
    "tags": []
   },
   "source": [
    "## Q: Get the average duration of songs by each of the artists in minutes"
   ]
  },
  {
   "cell_type": "code",
   "execution_count": null,
   "id": "dc61eea7",
   "metadata": {
    "execution": {
     "iopub.execute_input": "2023-06-04T00:21:31.674723Z",
     "iopub.status.busy": "2023-06-04T00:21:31.674319Z",
     "iopub.status.idle": "2023-06-04T00:21:31.678694Z",
     "shell.execute_reply": "2023-06-04T00:21:31.677625Z"
    },
    "id": "dc61eea7",
    "papermill": {
     "duration": 0.026887,
     "end_time": "2023-06-04T00:21:31.680897",
     "exception": false,
     "start_time": "2023-06-04T00:21:31.654010",
     "status": "completed"
    },
    "tags": []
   },
   "outputs": [],
   "source": [
    "# To be completed"
   ]
  },
  {
   "cell_type": "markdown",
   "id": "e664cfeb",
   "metadata": {
    "id": "e664cfeb",
    "papermill": {
     "duration": 0.018409,
     "end_time": "2023-06-04T00:21:31.717968",
     "exception": false,
     "start_time": "2023-06-04T00:21:31.699559",
     "status": "completed"
    },
    "tags": []
   },
   "source": [
    "## Q: list of artist's unique names"
   ]
  },
  {
   "cell_type": "code",
   "execution_count": null,
   "id": "71267ec5",
   "metadata": {
    "execution": {
     "iopub.execute_input": "2023-06-04T00:21:31.757799Z",
     "iopub.status.busy": "2023-06-04T00:21:31.757323Z",
     "iopub.status.idle": "2023-06-04T00:21:31.762020Z",
     "shell.execute_reply": "2023-06-04T00:21:31.761110Z"
    },
    "id": "71267ec5",
    "papermill": {
     "duration": 0.027439,
     "end_time": "2023-06-04T00:21:31.764167",
     "exception": false,
     "start_time": "2023-06-04T00:21:31.736728",
     "status": "completed"
    },
    "tags": []
   },
   "outputs": [],
   "source": [
    "# To be completed"
   ]
  },
  {
   "cell_type": "markdown",
   "id": "9a218b81",
   "metadata": {
    "id": "9a218b81",
    "papermill": {
     "duration": 0.01853,
     "end_time": "2023-06-04T00:21:31.802314",
     "exception": false,
     "start_time": "2023-06-04T00:21:31.783784",
     "status": "completed"
    },
    "tags": []
   },
   "source": [
    "## Q: Plot average duration of tracks by year"
   ]
  },
  {
   "cell_type": "code",
   "execution_count": null,
   "id": "f860c6af",
   "metadata": {
    "execution": {
     "iopub.execute_input": "2023-06-04T00:21:31.842974Z",
     "iopub.status.busy": "2023-06-04T00:21:31.842070Z",
     "iopub.status.idle": "2023-06-04T00:21:31.847368Z",
     "shell.execute_reply": "2023-06-04T00:21:31.846241Z"
    },
    "id": "f860c6af",
    "papermill": {
     "duration": 0.028593,
     "end_time": "2023-06-04T00:21:31.849908",
     "exception": false,
     "start_time": "2023-06-04T00:21:31.821315",
     "status": "completed"
    },
    "tags": []
   },
   "outputs": [],
   "source": [
    "# To be completed"
   ]
  },
  {
   "cell_type": "markdown",
   "id": "bb01e3f5",
   "metadata": {
    "id": "bb01e3f5",
    "papermill": {
     "duration": 0.018319,
     "end_time": "2023-06-04T00:21:31.887014",
     "exception": false,
     "start_time": "2023-06-04T00:21:31.868695",
     "status": "completed"
    },
    "tags": []
   },
   "source": [
    "## Q: Plot average loudness of tracks by year"
   ]
  },
  {
   "cell_type": "code",
   "execution_count": null,
   "id": "855cbf53",
   "metadata": {
    "execution": {
     "iopub.execute_input": "2023-06-04T00:21:31.928750Z",
     "iopub.status.busy": "2023-06-04T00:21:31.927983Z",
     "iopub.status.idle": "2023-06-04T00:21:31.932628Z",
     "shell.execute_reply": "2023-06-04T00:21:31.931441Z"
    },
    "id": "855cbf53",
    "papermill": {
     "duration": 0.029343,
     "end_time": "2023-06-04T00:21:31.935636",
     "exception": false,
     "start_time": "2023-06-04T00:21:31.906293",
     "status": "completed"
    },
    "tags": []
   },
   "outputs": [],
   "source": [
    "# To be completed"
   ]
  },
  {
   "cell_type": "markdown",
   "id": "8fff7d6e",
   "metadata": {
    "id": "8fff7d6e",
    "papermill": {
     "duration": 0.018143,
     "end_time": "2023-06-04T00:21:31.972857",
     "exception": false,
     "start_time": "2023-06-04T00:21:31.954714",
     "status": "completed"
    },
    "tags": []
   },
   "source": [
    "## Q: Music attributes of songs over the years\n"
   ]
  },
  {
   "cell_type": "code",
   "execution_count": null,
   "id": "b3f45b09",
   "metadata": {
    "execution": {
     "iopub.execute_input": "2023-06-04T00:21:32.012012Z",
     "iopub.status.busy": "2023-06-04T00:21:32.011527Z",
     "iopub.status.idle": "2023-06-04T00:21:32.018009Z",
     "shell.execute_reply": "2023-06-04T00:21:32.016202Z"
    },
    "id": "b3f45b09",
    "papermill": {
     "duration": 0.029713,
     "end_time": "2023-06-04T00:21:32.020842",
     "exception": false,
     "start_time": "2023-06-04T00:21:31.991129",
     "status": "completed"
    },
    "tags": []
   },
   "outputs": [],
   "source": [
    "# the columns that we are interseted in\n",
    "target_cols = [\"acousticness\",\"danceability\",\"energy\",\"speechiness\",\"liveness\",\"valence\"]\n",
    "\n",
    "# To be completed"
   ]
  },
  {
   "cell_type": "markdown",
   "id": "6e856572",
   "metadata": {
    "id": "6e856572",
    "papermill": {
     "duration": 0.018156,
     "end_time": "2023-06-04T00:21:32.057603",
     "exception": false,
     "start_time": "2023-06-04T00:21:32.039447",
     "status": "completed"
    },
    "tags": []
   },
   "source": [
    "## Q: Plot top 10 popular tracks (Bar Chart)"
   ]
  },
  {
   "cell_type": "code",
   "execution_count": null,
   "id": "0273a0fd",
   "metadata": {
    "execution": {
     "iopub.execute_input": "2023-06-04T00:21:32.096193Z",
     "iopub.status.busy": "2023-06-04T00:21:32.095668Z",
     "iopub.status.idle": "2023-06-04T00:21:32.101578Z",
     "shell.execute_reply": "2023-06-04T00:21:32.099952Z"
    },
    "id": "0273a0fd",
    "papermill": {
     "duration": 0.028373,
     "end_time": "2023-06-04T00:21:32.104175",
     "exception": false,
     "start_time": "2023-06-04T00:21:32.075802",
     "status": "completed"
    },
    "tags": []
   },
   "outputs": [],
   "source": [
    "# To be completed"
   ]
  },
  {
   "cell_type": "markdown",
   "id": "d5f660a8",
   "metadata": {
    "id": "d5f660a8",
    "papermill": {
     "duration": 0.017884,
     "end_time": "2023-06-04T00:21:32.140493",
     "exception": false,
     "start_time": "2023-06-04T00:21:32.122609",
     "status": "completed"
    },
    "tags": []
   },
   "source": [
    "## Q: Plot top 10 popular artist (Bar Chart)"
   ]
  },
  {
   "cell_type": "code",
   "execution_count": null,
   "id": "9edd3420",
   "metadata": {
    "execution": {
     "iopub.execute_input": "2023-06-04T00:21:32.179362Z",
     "iopub.status.busy": "2023-06-04T00:21:32.178837Z",
     "iopub.status.idle": "2023-06-04T00:21:32.184406Z",
     "shell.execute_reply": "2023-06-04T00:21:32.183099Z"
    },
    "id": "9edd3420",
    "papermill": {
     "duration": 0.028164,
     "end_time": "2023-06-04T00:21:32.186767",
     "exception": false,
     "start_time": "2023-06-04T00:21:32.158603",
     "status": "completed"
    },
    "tags": []
   },
   "outputs": [],
   "source": [
    "# To be completed"
   ]
  },
  {
   "cell_type": "markdown",
   "id": "f5cddde1",
   "metadata": {
    "id": "f5cddde1",
    "papermill": {
     "duration": 0.017791,
     "end_time": "2023-06-04T00:21:32.223696",
     "exception": false,
     "start_time": "2023-06-04T00:21:32.205905",
     "status": "completed"
    },
    "tags": []
   },
   "source": [
    "## Q: Plot correlation matrix's heatmap\n",
    "What are the most correlated features with `duration_ms` and `popularity`?"
   ]
  },
  {
   "cell_type": "code",
   "execution_count": null,
   "id": "9a092222",
   "metadata": {
    "execution": {
     "iopub.execute_input": "2023-06-04T00:21:32.262642Z",
     "iopub.status.busy": "2023-06-04T00:21:32.262161Z",
     "iopub.status.idle": "2023-06-04T00:21:32.267869Z",
     "shell.execute_reply": "2023-06-04T00:21:32.266499Z"
    },
    "id": "9a092222",
    "papermill": {
     "duration": 0.028257,
     "end_time": "2023-06-04T00:21:32.270652",
     "exception": false,
     "start_time": "2023-06-04T00:21:32.242395",
     "status": "completed"
    },
    "tags": []
   },
   "outputs": [],
   "source": [
    "# To be completed"
   ]
  },
  {
   "cell_type": "code",
   "execution_count": null,
   "id": "cf317e70",
   "metadata": {
    "execution": {
     "iopub.execute_input": "2023-06-04T00:21:32.310717Z",
     "iopub.status.busy": "2023-06-04T00:21:32.310316Z",
     "iopub.status.idle": "2023-06-04T00:21:32.315794Z",
     "shell.execute_reply": "2023-06-04T00:21:32.314518Z"
    },
    "id": "cf317e70",
    "papermill": {
     "duration": 0.029081,
     "end_time": "2023-06-04T00:21:32.318334",
     "exception": false,
     "start_time": "2023-06-04T00:21:32.289253",
     "status": "completed"
    },
    "tags": []
   },
   "outputs": [],
   "source": [
    "# To be completed"
   ]
  },
  {
   "cell_type": "markdown",
   "id": "25ebff13",
   "metadata": {
    "id": "25ebff13",
    "papermill": {
     "duration": 0.018132,
     "end_time": "2023-06-04T00:21:32.354959",
     "exception": false,
     "start_time": "2023-06-04T00:21:32.336827",
     "status": "completed"
    },
    "tags": []
   },
   "source": [
    "## Q: Plot box-plot for each feature \n",
    "Compare box-plot values of `energy` and `liveness`"
   ]
  },
  {
   "cell_type": "code",
   "execution_count": null,
   "id": "3234740e",
   "metadata": {
    "execution": {
     "iopub.execute_input": "2023-06-04T00:21:32.394330Z",
     "iopub.status.busy": "2023-06-04T00:21:32.393923Z",
     "iopub.status.idle": "2023-06-04T00:21:32.398303Z",
     "shell.execute_reply": "2023-06-04T00:21:32.397115Z"
    },
    "id": "3234740e",
    "papermill": {
     "duration": 0.026872,
     "end_time": "2023-06-04T00:21:32.400484",
     "exception": false,
     "start_time": "2023-06-04T00:21:32.373612",
     "status": "completed"
    },
    "tags": []
   },
   "outputs": [],
   "source": [
    "# To be completed"
   ]
  },
  {
   "cell_type": "markdown",
   "id": "d42fa77a",
   "metadata": {
    "id": "d42fa77a",
    "papermill": {
     "duration": 0.018172,
     "end_time": "2023-06-04T00:21:32.437385",
     "exception": false,
     "start_time": "2023-06-04T00:21:32.419213",
     "status": "completed"
    },
    "tags": []
   },
   "source": [
    "## Q: Missing values \n",
    "How many `nan` values are there in each column?"
   ]
  },
  {
   "cell_type": "code",
   "execution_count": null,
   "id": "c7a68891",
   "metadata": {
    "execution": {
     "iopub.execute_input": "2023-06-04T00:21:32.476389Z",
     "iopub.status.busy": "2023-06-04T00:21:32.475936Z",
     "iopub.status.idle": "2023-06-04T00:21:32.481139Z",
     "shell.execute_reply": "2023-06-04T00:21:32.479788Z"
    },
    "id": "c7a68891",
    "papermill": {
     "duration": 0.027402,
     "end_time": "2023-06-04T00:21:32.483343",
     "exception": false,
     "start_time": "2023-06-04T00:21:32.455941",
     "status": "completed"
    },
    "tags": []
   },
   "outputs": [],
   "source": [
    "# To be completed"
   ]
  },
  {
   "cell_type": "markdown",
   "id": "985733cf",
   "metadata": {
    "id": "985733cf",
    "papermill": {
     "duration": 0.018374,
     "end_time": "2023-06-04T00:21:32.520400",
     "exception": false,
     "start_time": "2023-06-04T00:21:32.502026",
     "status": "completed"
    },
    "tags": []
   },
   "source": [
    "# Handling nan values of dataframe\n",
    "- Fill categorical features with \"None\"\n",
    "- Fill numerical features with appropriate approach(mean, median or any imputation). Explain your choice."
   ]
  },
  {
   "cell_type": "code",
   "execution_count": null,
   "id": "9ca5dcd9",
   "metadata": {
    "execution": {
     "iopub.execute_input": "2023-06-04T00:21:32.559550Z",
     "iopub.status.busy": "2023-06-04T00:21:32.559149Z",
     "iopub.status.idle": "2023-06-04T00:21:32.563172Z",
     "shell.execute_reply": "2023-06-04T00:21:32.562233Z"
    },
    "id": "9ca5dcd9",
    "papermill": {
     "duration": 0.026284,
     "end_time": "2023-06-04T00:21:32.565219",
     "exception": false,
     "start_time": "2023-06-04T00:21:32.538935",
     "status": "completed"
    },
    "tags": []
   },
   "outputs": [],
   "source": [
    "# To be completed"
   ]
  },
  {
   "cell_type": "code",
   "execution_count": null,
   "id": "06b308ef",
   "metadata": {
    "execution": {
     "iopub.execute_input": "2023-06-04T00:21:32.604335Z",
     "iopub.status.busy": "2023-06-04T00:21:32.603517Z",
     "iopub.status.idle": "2023-06-04T00:21:32.607666Z",
     "shell.execute_reply": "2023-06-04T00:21:32.606756Z"
    },
    "id": "06b308ef",
    "papermill": {
     "duration": 0.026108,
     "end_time": "2023-06-04T00:21:32.609734",
     "exception": false,
     "start_time": "2023-06-04T00:21:32.583626",
     "status": "completed"
    },
    "tags": []
   },
   "outputs": [],
   "source": [
    "# To be completed"
   ]
  },
  {
   "cell_type": "markdown",
   "id": "1e77f070",
   "metadata": {
    "id": "1e77f070",
    "papermill": {
     "duration": 0.018156,
     "end_time": "2023-06-04T00:21:32.646334",
     "exception": false,
     "start_time": "2023-06-04T00:21:32.628178",
     "status": "completed"
    },
    "tags": []
   },
   "source": [
    "# Determine your desired features here"
   ]
  },
  {
   "cell_type": "code",
   "execution_count": null,
   "id": "124efd97",
   "metadata": {
    "execution": {
     "iopub.execute_input": "2023-06-04T00:21:32.685788Z",
     "iopub.status.busy": "2023-06-04T00:21:32.685031Z",
     "iopub.status.idle": "2023-06-04T00:21:32.689633Z",
     "shell.execute_reply": "2023-06-04T00:21:32.688797Z"
    },
    "id": "124efd97",
    "papermill": {
     "duration": 0.02714,
     "end_time": "2023-06-04T00:21:32.691900",
     "exception": false,
     "start_time": "2023-06-04T00:21:32.664760",
     "status": "completed"
    },
    "tags": []
   },
   "outputs": [],
   "source": [
    "music_feature_cols = [\n",
    "    # To be completed\n",
    "]"
   ]
  },
  {
   "cell_type": "code",
   "execution_count": null,
   "id": "2b56636b",
   "metadata": {
    "execution": {
     "iopub.execute_input": "2023-06-04T00:21:32.730931Z",
     "iopub.status.busy": "2023-06-04T00:21:32.730209Z",
     "iopub.status.idle": "2023-06-04T00:21:32.751632Z",
     "shell.execute_reply": "2023-06-04T00:21:32.750294Z"
    },
    "id": "2b56636b",
    "papermill": {
     "duration": 0.043772,
     "end_time": "2023-06-04T00:21:32.754080",
     "exception": false,
     "start_time": "2023-06-04T00:21:32.710308",
     "status": "completed"
    },
    "tags": []
   },
   "outputs": [],
   "source": [
    "tracks_feature_df = spotify_df[music_feature_cols + ['artist_name']].dropna()\n",
    "tracks_feature_df"
   ]
  },
  {
   "cell_type": "markdown",
   "id": "f26280cc",
   "metadata": {
    "id": "f26280cc",
    "papermill": {
     "duration": 0.01856,
     "end_time": "2023-06-04T00:21:32.791716",
     "exception": false,
     "start_time": "2023-06-04T00:21:32.773156",
     "status": "completed"
    },
    "tags": []
   },
   "source": [
    "## Feature Preprocessing\n",
    "In this section, you should preprocess desired features to get suitable for using in machine learning models. "
   ]
  },
  {
   "cell_type": "code",
   "execution_count": null,
   "id": "443c9ab4",
   "metadata": {
    "execution": {
     "iopub.execute_input": "2023-06-04T00:21:32.833079Z",
     "iopub.status.busy": "2023-06-04T00:21:32.832644Z",
     "iopub.status.idle": "2023-06-04T00:21:32.837392Z",
     "shell.execute_reply": "2023-06-04T00:21:32.836397Z"
    },
    "id": "443c9ab4",
    "papermill": {
     "duration": 0.028522,
     "end_time": "2023-06-04T00:21:32.839779",
     "exception": false,
     "start_time": "2023-06-04T00:21:32.811257",
     "status": "completed"
    },
    "tags": []
   },
   "outputs": [],
   "source": [
    "# To be completed"
   ]
  },
  {
   "cell_type": "markdown",
   "id": "6ead2198",
   "metadata": {
    "id": "6ead2198",
    "papermill": {
     "duration": 0.019839,
     "end_time": "2023-06-04T00:21:32.880322",
     "exception": false,
     "start_time": "2023-06-04T00:21:32.860483",
     "status": "completed"
    },
    "tags": []
   },
   "source": [
    "## Visualize Dataset Features using Dimension Reduction models (e.g. PCA)"
   ]
  },
  {
   "cell_type": "code",
   "execution_count": null,
   "id": "7f05f7bc",
   "metadata": {
    "execution": {
     "iopub.execute_input": "2023-06-04T00:21:32.920418Z",
     "iopub.status.busy": "2023-06-04T00:21:32.919724Z",
     "iopub.status.idle": "2023-06-04T00:21:33.856190Z",
     "shell.execute_reply": "2023-06-04T00:21:33.854160Z"
    },
    "id": "7f05f7bc",
    "papermill": {
     "duration": 0.959337,
     "end_time": "2023-06-04T00:21:33.858492",
     "exception": true,
     "start_time": "2023-06-04T00:21:32.899155",
     "status": "failed"
    },
    "tags": []
   },
   "outputs": [],
   "source": [
    "pca = PCA(n_components=2)\n",
    "tracks_feature_visual = pca.fit_transform(tracks_feature_df.drop(['artist_name'], axis=1))\n",
    "print(tracks_feature_visual.shape)\n",
    "plt.scatter(tracks_feature_visual[:, 0], tracks_feature_visual[:, 1], s=5)"
   ]
  },
  {
   "cell_type": "code",
   "execution_count": null,
   "id": "d631fbe1",
   "metadata": {
    "execution": {
     "iopub.execute_input": "2023-05-29T13:03:10.281074Z",
     "iopub.status.busy": "2023-05-29T13:03:10.280533Z",
     "iopub.status.idle": "2023-05-29T13:03:10.794942Z",
     "shell.execute_reply": "2023-05-29T13:03:10.793817Z",
     "shell.execute_reply.started": "2023-05-29T13:03:10.281042Z"
    },
    "id": "d631fbe1",
    "papermill": {
     "duration": null,
     "end_time": null,
     "exception": null,
     "start_time": null,
     "status": "pending"
    },
    "tags": []
   },
   "outputs": [],
   "source": [
    "pca = PCA(n_components=3)\n",
    "tracks_feature_visual = pca.fit_transform(tracks_feature_df.drop(['artist_name'], axis=1))\n",
    "print(tracks_feature_visual.shape)\n",
    "plt.scatter(tracks_feature_visual[:, 0], tracks_feature_visual[:, 1], s=5)\n",
    "plt.scatter(tracks_feature_visual[:, 0], tracks_feature_visual[:, 2], s=5)\n",
    "plt.scatter(tracks_feature_visual[:, 1], tracks_feature_visual[:, 2], s=5)"
   ]
  },
  {
   "cell_type": "markdown",
   "id": "65273611",
   "metadata": {
    "id": "65273611",
    "papermill": {
     "duration": null,
     "end_time": null,
     "exception": null,
     "start_time": null,
     "status": "pending"
    },
    "tags": []
   },
   "source": [
    "## Regression"
   ]
  },
  {
   "cell_type": "code",
   "execution_count": null,
   "id": "8e306ca3",
   "metadata": {
    "execution": {
     "iopub.execute_input": "2023-05-29T13:03:10.797085Z",
     "iopub.status.busy": "2023-05-29T13:03:10.796715Z",
     "iopub.status.idle": "2023-05-29T13:03:10.802406Z",
     "shell.execute_reply": "2023-05-29T13:03:10.80119Z",
     "shell.execute_reply.started": "2023-05-29T13:03:10.797054Z"
    },
    "id": "8e306ca3",
    "papermill": {
     "duration": null,
     "end_time": null,
     "exception": null,
     "start_time": null,
     "status": "pending"
    },
    "tags": []
   },
   "outputs": [],
   "source": [
    "# Set random seed to make results reproducible \n",
    "RANDOM_SEED = 42"
   ]
  },
  {
   "cell_type": "code",
   "execution_count": null,
   "id": "d6de3334",
   "metadata": {
    "execution": {
     "iopub.execute_input": "2023-05-29T13:03:10.804162Z",
     "iopub.status.busy": "2023-05-29T13:03:10.803857Z",
     "iopub.status.idle": "2023-05-29T13:03:10.816408Z",
     "shell.execute_reply": "2023-05-29T13:03:10.815219Z",
     "shell.execute_reply.started": "2023-05-29T13:03:10.804137Z"
    },
    "id": "d6de3334",
    "papermill": {
     "duration": null,
     "end_time": null,
     "exception": null,
     "start_time": null,
     "status": "pending"
    },
    "tags": []
   },
   "outputs": [],
   "source": [
    "df = spotify_df\n",
    "regression_features = [\n",
    "    # Your desired features columns\n",
    "]\n",
    "x=df.loc[:, regression_features].values\n",
    "y=df.loc[:,'popularity'].values\n",
    "x_train, x_test, y_train, y_test = train_test_split(x, y, test_size=0.30, random_state=RANDOM_SEED)"
   ]
  },
  {
   "cell_type": "markdown",
   "id": "99e2e51d",
   "metadata": {
    "id": "99e2e51d",
    "papermill": {
     "duration": null,
     "end_time": null,
     "exception": null,
     "start_time": null,
     "status": "pending"
    },
    "tags": []
   },
   "source": [
    "In this section, you should use `LinearRegression` class in scikit-learn library to implement regression algorithm. note that you should pass suitable parameters to get better results."
   ]
  },
  {
   "cell_type": "code",
   "execution_count": null,
   "id": "97d848ef",
   "metadata": {
    "execution": {
     "iopub.execute_input": "2023-05-29T13:03:10.818621Z",
     "iopub.status.busy": "2023-05-29T13:03:10.818245Z",
     "iopub.status.idle": "2023-05-29T13:03:10.833858Z",
     "shell.execute_reply": "2023-05-29T13:03:10.832235Z",
     "shell.execute_reply.started": "2023-05-29T13:03:10.818589Z"
    },
    "id": "97d848ef",
    "papermill": {
     "duration": null,
     "end_time": null,
     "exception": null,
     "start_time": null,
     "status": "pending"
    },
    "tags": []
   },
   "outputs": [],
   "source": [
    "regressor = LinearRegression(\n",
    "    # pass parameters here\n",
    ")\n",
    "regressor.fit(x_train, y_train)\n",
    "print(regressor.intercept_)\n",
    "print(regressor.coef_)"
   ]
  },
  {
   "cell_type": "markdown",
   "id": "edaac132",
   "metadata": {
    "id": "edaac132",
    "papermill": {
     "duration": null,
     "end_time": null,
     "exception": null,
     "start_time": null,
     "status": "pending"
    },
    "tags": []
   },
   "source": [
    "## Evaluate Regression Algorithm"
   ]
  },
  {
   "cell_type": "code",
   "execution_count": null,
   "id": "6934893b",
   "metadata": {
    "execution": {
     "iopub.execute_input": "2023-05-29T13:03:10.836033Z",
     "iopub.status.busy": "2023-05-29T13:03:10.835681Z",
     "iopub.status.idle": "2023-05-29T13:03:10.859993Z",
     "shell.execute_reply": "2023-05-29T13:03:10.858504Z",
     "shell.execute_reply.started": "2023-05-29T13:03:10.836003Z"
    },
    "id": "6934893b",
    "papermill": {
     "duration": null,
     "end_time": null,
     "exception": null,
     "start_time": null,
     "status": "pending"
    },
    "tags": []
   },
   "outputs": [],
   "source": [
    "y_pred = regressor.predict(x_test)\n",
    "df_output = pd.DataFrame({'Actual': y_test, 'Predicted': y_pred})\n",
    "df_output"
   ]
  },
  {
   "cell_type": "code",
   "execution_count": null,
   "id": "e50623d3",
   "metadata": {
    "execution": {
     "iopub.execute_input": "2023-05-29T13:03:10.862802Z",
     "iopub.status.busy": "2023-05-29T13:03:10.862026Z",
     "iopub.status.idle": "2023-05-29T13:03:10.87379Z",
     "shell.execute_reply": "2023-05-29T13:03:10.87233Z",
     "shell.execute_reply.started": "2023-05-29T13:03:10.862753Z"
    },
    "id": "e50623d3",
    "papermill": {
     "duration": null,
     "end_time": null,
     "exception": null,
     "start_time": null,
     "status": "pending"
    },
    "tags": []
   },
   "outputs": [],
   "source": [
    "#autograde\n",
    "#Checking the accuracy of Linear Regression\n",
    "print('Mean Absolute Error:', metrics.mean_absolute_error(y_test, y_pred))\n",
    "print('Mean Squared Error:', metrics.mean_squared_error(y_test, y_pred))\n",
    "print('Root Mean Squared Error:', np.sqrt(metrics.mean_squared_error(y_test, y_pred)))"
   ]
  },
  {
   "cell_type": "markdown",
   "id": "e0a24345",
   "metadata": {
    "id": "e0a24345",
    "papermill": {
     "duration": null,
     "end_time": null,
     "exception": null,
     "start_time": null,
     "status": "pending"
    },
    "tags": []
   },
   "source": [
    "# Classification"
   ]
  },
  {
   "cell_type": "markdown",
   "id": "69eb6c1d",
   "metadata": {
    "id": "69eb6c1d",
    "papermill": {
     "duration": null,
     "end_time": null,
     "exception": null,
     "start_time": null,
     "status": "pending"
    },
    "tags": []
   },
   "source": [
    "## Prepare Labels"
   ]
  },
  {
   "cell_type": "code",
   "execution_count": null,
   "id": "e683d5e6",
   "metadata": {
    "id": "e683d5e6",
    "papermill": {
     "duration": null,
     "end_time": null,
     "exception": null,
     "start_time": null,
     "status": "pending"
    },
    "tags": []
   },
   "outputs": [],
   "source": [
    "sonnati_artists = ['Salar Aghili', 'Mohammadreza Shajarian', 'Hesameddin Seraj',\n",
    "       'Mohammad Esfahani', 'Abdolhosein Mokhtabad', 'Hossein Alizadeh', \n",
    "       'Kayhan Kalhor', 'Alireza Eftekhari', 'Iraj Bastami', 'Alireza Ghorbani', \n",
    "       'Parviz Meshkatian', 'Mohammad Reza Lotfi', 'Ali Zand Vakili', 'Kaveh Deylami', \n",
    "       'Hatam Asgari', 'Homayoun Shajarian', 'Shahram Nazeri']"
   ]
  },
  {
   "cell_type": "markdown",
   "id": "277b8897",
   "metadata": {
    "id": "277b8897",
    "papermill": {
     "duration": null,
     "end_time": null,
     "exception": null,
     "start_time": null,
     "status": "pending"
    },
    "tags": []
   },
   "source": [
    "## Add `is_sonnati` feature column \n",
    "Using `sonnati_artist` list, add new feature column `is_sonnati` that determines a song whether a song is sonnati"
   ]
  },
  {
   "cell_type": "code",
   "execution_count": null,
   "id": "e35fe9a0",
   "metadata": {
    "execution": {
     "iopub.execute_input": "2023-05-29T13:03:14.157741Z",
     "iopub.status.busy": "2023-05-29T13:03:14.1574Z",
     "iopub.status.idle": "2023-05-29T13:03:14.17681Z",
     "shell.execute_reply": "2023-05-29T13:03:14.175436Z",
     "shell.execute_reply.started": "2023-05-29T13:03:14.157711Z"
    },
    "id": "e35fe9a0",
    "papermill": {
     "duration": null,
     "end_time": null,
     "exception": null,
     "start_time": null,
     "status": "pending"
    },
    "tags": []
   },
   "outputs": [],
   "source": [
    "# To be completed"
   ]
  },
  {
   "cell_type": "code",
   "execution_count": null,
   "id": "93bb71c7",
   "metadata": {
    "execution": {
     "iopub.execute_input": "2023-05-29T13:03:14.179771Z",
     "iopub.status.busy": "2023-05-29T13:03:14.178591Z",
     "iopub.status.idle": "2023-05-29T13:03:14.289657Z",
     "shell.execute_reply": "2023-05-29T13:03:14.288394Z",
     "shell.execute_reply.started": "2023-05-29T13:03:14.179735Z"
    },
    "id": "93bb71c7",
    "papermill": {
     "duration": null,
     "end_time": null,
     "exception": null,
     "start_time": null,
     "status": "pending"
    },
    "tags": []
   },
   "outputs": [],
   "source": [
    "tracks_feature_df.describe()"
   ]
  },
  {
   "cell_type": "markdown",
   "id": "7cea705f",
   "metadata": {
    "id": "7cea705f",
    "papermill": {
     "duration": null,
     "end_time": null,
     "exception": null,
     "start_time": null,
     "status": "pending"
    },
    "tags": []
   },
   "source": [
    "## Create Classification Dataset"
   ]
  },
  {
   "cell_type": "code",
   "execution_count": null,
   "id": "feffa0e9",
   "metadata": {
    "execution": {
     "iopub.execute_input": "2023-05-29T13:03:14.291656Z",
     "iopub.status.busy": "2023-05-29T13:03:14.291304Z",
     "iopub.status.idle": "2023-05-29T13:03:14.300611Z",
     "shell.execute_reply": "2023-05-29T13:03:14.299542Z",
     "shell.execute_reply.started": "2023-05-29T13:03:14.291626Z"
    },
    "id": "feffa0e9",
    "papermill": {
     "duration": null,
     "end_time": null,
     "exception": null,
     "start_time": null,
     "status": "pending"
    },
    "tags": []
   },
   "outputs": [],
   "source": [
    "x = tracks_feature_df.reset_index().drop(columns=['is_sonnati']).values\n",
    "y = tracks_feature_df['is_sonnati'].values"
   ]
  },
  {
   "cell_type": "code",
   "execution_count": null,
   "id": "71341645",
   "metadata": {
    "execution": {
     "iopub.execute_input": "2023-05-29T13:03:14.302437Z",
     "iopub.status.busy": "2023-05-29T13:03:14.302066Z",
     "iopub.status.idle": "2023-05-29T13:03:14.313187Z",
     "shell.execute_reply": "2023-05-29T13:03:14.312037Z",
     "shell.execute_reply.started": "2023-05-29T13:03:14.302405Z"
    },
    "id": "71341645",
    "papermill": {
     "duration": null,
     "end_time": null,
     "exception": null,
     "start_time": null,
     "status": "pending"
    },
    "tags": []
   },
   "outputs": [],
   "source": [
    "print(f'{x.shape=}')\n",
    "print(f'{y.shape=}')"
   ]
  },
  {
   "cell_type": "code",
   "execution_count": null,
   "id": "528a8734",
   "metadata": {
    "execution": {
     "iopub.execute_input": "2023-05-29T13:03:14.315825Z",
     "iopub.status.busy": "2023-05-29T13:03:14.314779Z",
     "iopub.status.idle": "2023-05-29T13:03:14.327746Z",
     "shell.execute_reply": "2023-05-29T13:03:14.326621Z",
     "shell.execute_reply.started": "2023-05-29T13:03:14.315779Z"
    },
    "id": "528a8734",
    "papermill": {
     "duration": null,
     "end_time": null,
     "exception": null,
     "start_time": null,
     "status": "pending"
    },
    "tags": []
   },
   "outputs": [],
   "source": [
    "from sklearn.model_selection import train_test_split\n",
    "\n",
    "x_train, x_test, y_train, y_test = train_test_split(x, y, test_size=0.3, random_state=RANDOM_SEED, shuffle=True)"
   ]
  },
  {
   "cell_type": "markdown",
   "id": "6e445b97",
   "metadata": {
    "id": "6e445b97",
    "papermill": {
     "duration": null,
     "end_time": null,
     "exception": null,
     "start_time": null,
     "status": "pending"
    },
    "tags": []
   },
   "source": [
    "## Choose a Model and Report the Evaluation Metrics"
   ]
  },
  {
   "cell_type": "markdown",
   "id": "8a01f1b8",
   "metadata": {
    "id": "8a01f1b8",
    "papermill": {
     "duration": null,
     "end_time": null,
     "exception": null,
     "start_time": null,
     "status": "pending"
    },
    "tags": []
   },
   "source": [
    "`fit_and_eval` function takes two parameters:\n",
    "- scikit-learn classification model\n",
    "- dataset object (that is a tuple of `x` and `y`) \n",
    "\n",
    "\n",
    "you should just instantiate your model and pass your desired parameters and then get the result of testing over test part of dataset."
   ]
  },
  {
   "cell_type": "code",
   "execution_count": null,
   "id": "a62255cf",
   "metadata": {
    "execution": {
     "iopub.execute_input": "2023-05-29T13:03:14.330715Z",
     "iopub.status.busy": "2023-05-29T13:03:14.329463Z",
     "iopub.status.idle": "2023-05-29T13:03:14.339368Z",
     "shell.execute_reply": "2023-05-29T13:03:14.338337Z",
     "shell.execute_reply.started": "2023-05-29T13:03:14.330672Z"
    },
    "id": "a62255cf",
    "papermill": {
     "duration": null,
     "end_time": null,
     "exception": null,
     "start_time": null,
     "status": "pending"
    },
    "tags": []
   },
   "outputs": [],
   "source": [
    "#autograde\n",
    "def fit_and_eval(model, dataset):\n",
    "    \"\"\"\n",
    "    Train scikit-learn model on given dataset\n",
    "    \n",
    "    model: scikit-learn model\n",
    "    dataset: tuple of x's and y's (whole data without any split)\n",
    "    \n",
    "    return:\n",
    "        dict: evaluation metrics report\n",
    "    \"\"\"\n",
    "    eval_metrics = {}\n",
    "    x, y = dataset\n",
    "    x_train, x_test, y_train, y_test = train_test_split(\n",
    "        x, y, test_size=0.3, random_state=RANDOM_SEED, shuffle=True\n",
    "    )\n",
    "    \n",
    "    # train model\n",
    "    classifier = make_pipeline(StandardScaler(), model)\n",
    "    \n",
    "    # ignore index column for training and inferencing\n",
    "    classifier.fit(x_train[:, 1:], y_train)\n",
    "    y_pred = classifier.predict(x_test[:, 1:])\n",
    "    \n",
    "    # export predictions to submit to kaggle\n",
    "    pd.DataFrame({'id': x_test[:, 0].astype(int), 'predicted': y_pred}, dtype=str).to_csv('spotify_pred.csv', index=False)\n",
    "    \n",
    "    # evaluate model\n",
    "    eval_metrics['acc'] = accuracy_score(y_test, y_pred)\n",
    "    eval_metrics['precision'] = precision_score(y_test, y_pred)\n",
    "    eval_metrics['recall'] = recall_score(y_test, y_pred)\n",
    "    eval_metrics['f1'] = f1_score(y_test, y_pred)\n",
    "    eval_metrics['confusion'] = confusion_matrix(y_test, y_pred)\n",
    "    return eval_metrics"
   ]
  },
  {
   "cell_type": "code",
   "execution_count": null,
   "id": "c8562183",
   "metadata": {
    "execution": {
     "iopub.execute_input": "2023-05-29T13:03:15.521921Z",
     "iopub.status.busy": "2023-05-29T13:03:15.521588Z",
     "iopub.status.idle": "2023-05-29T13:03:15.789839Z",
     "shell.execute_reply": "2023-05-29T13:03:15.788688Z",
     "shell.execute_reply.started": "2023-05-29T13:03:15.521891Z"
    },
    "id": "c8562183",
    "papermill": {
     "duration": null,
     "end_time": null,
     "exception": null,
     "start_time": null,
     "status": "pending"
    },
    "tags": []
   },
   "outputs": [],
   "source": [
    "# here is an example\n",
    "dataset = (x, y)\n",
    "pprint(fit_and_eval(KNeighborsClassifier(n_neighbors=1), dataset))"
   ]
  },
  {
   "cell_type": "code",
   "execution_count": null,
   "id": "5zQ45rek2DUk",
   "metadata": {
    "id": "5zQ45rek2DUk"
   },
   "outputs": [],
   "source": [
    "#autograde\n",
    "# the best model you want to be evaluated. Just pass do the same way as above cell\n"
   ]
  }
 ],
 "metadata": {
  "colab": {
   "provenance": []
  },
  "kernelspec": {
   "display_name": "Python 3",
   "language": "python",
   "name": "python3"
  },
  "language_info": {
   "codemirror_mode": {
    "name": "ipython",
    "version": 3
   },
   "file_extension": ".py",
   "mimetype": "text/x-python",
   "name": "python",
   "nbconvert_exporter": "python",
   "pygments_lexer": "ipython3",
   "version": "3.9.4"
  },
  "papermill": {
   "default_parameters": {},
   "duration": 22.27295,
   "end_time": "2023-06-04T00:21:35.105272",
   "environment_variables": {},
   "exception": true,
   "input_path": "__notebook__.ipynb",
   "output_path": "__notebook__.ipynb",
   "parameters": {},
   "start_time": "2023-06-04T00:21:12.832322",
   "version": "2.4.0"
  }
 },
 "nbformat": 4,
 "nbformat_minor": 5
}
